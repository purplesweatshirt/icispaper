{
  "nbformat": 4,
  "nbformat_minor": 0,
  "metadata": {
    "colab": {
      "name": "example.ipynb",
      "provenance": []
    },
    "kernelspec": {
      "name": "python3",
      "display_name": "Python 3"
    },
    "language_info": {
      "name": "python"
    },
    "accelerator": "GPU"
  },
  "cells": [
    {
      "cell_type": "markdown",
      "metadata": {
        "id": "W4Qig6Z_aodB"
      },
      "source": [
        "## Setup"
      ]
    },
    {
      "cell_type": "markdown",
      "metadata": {
        "id": "266G25Hz4Cjy"
      },
      "source": [
        "*Make sure to run this notebook using a GPU runtime (Runtime > Change runtime type > GPU). Run the gray-shaded code cells by pressing the run sign in the left corner of the cell. Run all code cells in order. The setup (first 6 code cells) may take up to 5 minutes.*"
      ]
    },
    {
      "cell_type": "markdown",
      "metadata": {
        "id": "5YQCjARaYyBX"
      },
      "source": [
        "In this notebook, we demonstrate how to use our models to detect graphical representations of (latent) variables and path coefficients in a given PDF file. The outputs of our functions will be saved in two different folders ```cropped_imgs``` (for extracted conceptual model figures) and ```final_imgs``` (detections of variables and coefficients in the figures). Before we can start, we need to set a few things up. <br>\n",
        "First, we have clone our GitHub Repo:"
      ]
    },
    {
      "cell_type": "code",
      "metadata": {
        "id": "6m73kLvzDH7a"
      },
      "source": [
        "!git clone https://github.com/purplesweatshirt/icispaper"
      ],
      "execution_count": null,
      "outputs": []
    },
    {
      "cell_type": "markdown",
      "metadata": {
        "id": "mBFFZPr_n20e"
      },
      "source": [
        "Next, we change the directory to our cloned repo:"
      ]
    },
    {
      "cell_type": "code",
      "metadata": {
        "id": "2RrqReffDVTp"
      },
      "source": [
        "%cd ./icispaper"
      ],
      "execution_count": null,
      "outputs": []
    },
    {
      "cell_type": "markdown",
      "metadata": {
        "id": "ZZQfmnhW_GWV"
      },
      "source": [
        "We have to install two dependencies to convert each page of a PDF into an image file:"
      ]
    },
    {
      "cell_type": "code",
      "metadata": {
        "id": "AwraYfwa_Juy"
      },
      "source": [
        "!apt-get install poppler-utils \n",
        "!pip install pdf2image"
      ],
      "execution_count": null,
      "outputs": []
    },
    {
      "cell_type": "markdown",
      "metadata": {
        "id": "EfoWUscEn_Zf"
      },
      "source": [
        "And have to run the \"make\" command to be able to use the YOLOv4 model:"
      ]
    },
    {
      "cell_type": "code",
      "metadata": {
        "id": "DT9KMeAQWsq8"
      },
      "source": [
        "!make"
      ],
      "execution_count": null,
      "outputs": []
    },
    {
      "cell_type": "markdown",
      "metadata": {
        "id": "T9raK_bEoNIv"
      },
      "source": [
        "We download our model's weights. Unfortunately, we couldn't upload them directly to GitHub due to their large sizes."
      ]
    },
    {
      "cell_type": "code",
      "metadata": {
        "id": "mhkPcQ7aWtb3"
      },
      "source": [
        "!wget --output-document=fig_det.weights https://sync.academiccloud.de/index.php/s/U13SnHdpPAnPKI0/download\n",
        "!wget --output-document=var_det.weights https://sync.academiccloud.de/index.php/s/RBm4jpUvxzwQOAu/download\n",
        "!wget --output-document=sem_class.h5 https://sync.academiccloud.de/index.php/s/excRqLnqE5xN4fM/download"
      ],
      "execution_count": null,
      "outputs": []
    },
    {
      "cell_type": "markdown",
      "metadata": {
        "id": "1ktTPCvYrmxC"
      },
      "source": [
        "Finally, we download a PDF file to demonstrate our pipeline:<br>\n",
        "(*Note: You can use a paper of your choice simply by swapping the url in the code cell below with a link to your desired pdf file. Do not modify anything but the url.*)"
      ]
    },
    {
      "cell_type": "code",
      "metadata": {
        "id": "Als1BtjErvj9"
      },
      "source": [
        "!wget --output-document=test.pdf http://docshare01.docshare.tips/files/7052/70528799.pdf"
      ],
      "execution_count": null,
      "outputs": []
    },
    {
      "cell_type": "markdown",
      "metadata": {
        "id": "QBe0pqP6auJN"
      },
      "source": [
        "## Inference"
      ]
    },
    {
      "cell_type": "markdown",
      "metadata": {
        "id": "lfFmAKzKXZ8e"
      },
      "source": [
        "We created a python file which contains all of our wrapper functions. These functions will be used in the following, so we import them."
      ]
    },
    {
      "cell_type": "code",
      "metadata": {
        "id": "zz8UajnNQZ9X"
      },
      "source": [
        "from detection_utils_new import *"
      ],
      "execution_count": 7,
      "outputs": []
    },
    {
      "cell_type": "markdown",
      "metadata": {
        "id": "WSod4yBxACdU"
      },
      "source": [
        "We are converting all PDF pages into image files by using our function ```store_images```. These images will be stored in the ```temp_imgs``` folder. Then we run our ```classify_pages``` function which classifies each image (i.e., does it contain a graphical representation of a conceptual model or not) and keeps only the relevant pages in the ```temp_imgs``` folder."
      ]
    },
    {
      "cell_type": "code",
      "metadata": {
        "id": "zjRFgsd7__hy"
      },
      "source": [
        "# Enter the path to the pdf file\n",
        "PATH_TO_PDF = 'test.pdf'\n",
        "\n",
        "store_images(PATH_TO_PDF)\n",
        "classify_pages(model_path='sem_class.h5')"
      ],
      "execution_count": null,
      "outputs": []
    },
    {
      "cell_type": "markdown",
      "metadata": {
        "id": "r27Rtg1xAhcE"
      },
      "source": [
        "We pass the name/path of our weights to the ```detect_figures``` function. This function detects the SEM figures in the image files from ```temp_imgs```. The images are cropped to the size of each detection. These cropped images are stored in the ```cropped_imgs``` folder and can be used by databases to provide images of the conceptual models of a paper."
      ]
    },
    {
      "cell_type": "code",
      "metadata": {
        "id": "85I5vvtkA0e_"
      },
      "source": [
        "detect_figures(weights='fig_det.weights')"
      ],
      "execution_count": null,
      "outputs": []
    },
    {
      "cell_type": "markdown",
      "metadata": {
        "id": "VQ7nTzE7A8B0"
      },
      "source": [
        "Our ```detect_variables``` functions uses the cropped images from the previous step to detect latent variables, items and path coefficients in the SEM figures. The resulting images are stored in the ```final_imgs``` folder. In the future, the bounding boxes will be used to extract the names via OCR and store this information in a database together with the intermediate images and the paper itself."
      ]
    },
    {
      "cell_type": "code",
      "metadata": {
        "id": "Y4grimzzBdoY"
      },
      "source": [
        "detect_variables(weights='var_det.weights')"
      ],
      "execution_count": null,
      "outputs": []
    }
  ]
}